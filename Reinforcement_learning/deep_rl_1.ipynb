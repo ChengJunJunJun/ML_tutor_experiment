{
 "cells": [
  {
   "cell_type": "markdown",
   "metadata": {},
   "source": [
    "## 介绍一下Gymnasium\n",
    "Gymnasium是一个项目，为所有单智能体强化学习环境提供 API，并包括常见环境的实现：cartpole（倒立摆）、pendulum（摆锤）、mountain-car（山地车）、mujoco、atari 等等。\n",
    "\n",
    "该 API 包含四个关键函数：make、reset、step 和 render。在 Gymnasium 的核心是 Env。"
   ]
  },
  {
   "cell_type": "markdown",
   "metadata": {},
   "source": [
    "### 初始化环境\n",
    "在 Gymnasium 中初始化环境非常简单，可以通过 make 函数完成：\n",
    "\n",
    "首先，大家需要配置环境，请运行下面的代码；\n",
    "```\n",
    "pip install gymnasium\n",
    "```\n",
    "\n",
    "这还不够，还需要运行：(大家最好加上引号，如果你是Mac并且是zsh,那一定要加上引号)\n",
    "```\n",
    "pip install \"gymnasium[atari]\"\n",
    "```\n",
    "\n",
    "后面的库安装请大家自己学习一下，不会具体的说明了\n",
    "\n",
    "\n"
   ]
  },
  {
   "cell_type": "code",
   "execution_count": 1,
   "metadata": {},
   "outputs": [],
   "source": [
    "import gymnasium as gym\n",
    "env = gym.make('CartPole-v1')"
   ]
  },
  {
   "cell_type": "markdown",
   "metadata": {},
   "source": [
    "这将返回一个用于用户交互的 Env。要查看所有可创建的环境，请使用`gymnasium.envs.registry.keys()`。`make` 包括许多额外的参数，用于添加包装器、指定环境的关键字等等。"
   ]
  },
  {
   "cell_type": "markdown",
   "metadata": {},
   "source": [
    "### 与环境进行交互\n",
    "\n",
    "下图是强化学习的简化表示，Gymnasium 实现了这一过程。\n",
    "\n",
    "<img src=\"https://gymnasium.farama.org/_images/AE_loop.png\" alt=\"agent-environment loop\" width=\"400\" >\n",
    "\n",
    "这个循环是使用以下 Gymnasium 代码实现的：\n",
    "\n"
   ]
  },
  {
   "cell_type": "code",
   "execution_count": 7,
   "metadata": {},
   "outputs": [],
   "source": [
    "import gymnasium as gym\n",
    "env = gym.make(\"LunarLander-v2\", render_mode=\"human\")\n",
    "observation, info = env.reset()\n",
    "\n",
    "for _ in range(1000):\n",
    "    action = env.action_space.sample()  # agent policy that uses the observation and info\n",
    "    observation, reward, terminated, truncated, info = env.step(action)\n",
    "\n",
    "    if terminated or truncated:\n",
    "        observation, info = env.reset()\n",
    "\n",
    "env.close()"
   ]
  },
  {
   "cell_type": "markdown",
   "metadata": {},
   "source": [
    "### 需要注意的地方\n",
    "大家可能发现，运行上面的代码会出现报错；我们需要安装`swig`; SWIG (Simplified Wrapper and Interface Generator)是一个开源工具，用于连接 C/C++ 与其他高级编程语言（如 Python、Java、C# 等）之间的接口。\n",
    "\n",
    "要安装SWIG，你可以按照以下步骤进行操作：\n",
    "\n",
    "1. **与Python一起安装：**\n",
    "   - 如果你使用的是Python，可以使用pip工具来安装SWIG。在命令行中输入以下命令：\n",
    "     ```\n",
    "     pip install swig\n",
    "     ```\n",
    "   这将会自动安装SWIG并将其与Python关联起来。\n",
    "\n",
    "2. **作为一个独立的可执行文件安装：**\n",
    "   - 如果你需要将SWIG作为一个独立的可执行文件安装，你可以从SWIG的官方网站下载适用于你的操作系统的安装包，并按照安装说明进行安装。\n",
    "   - 请访问SWIG的官方网站（https://www.swig.org/download.html）下载适合你系统的安装程序。\n",
    "\n",
    "无论你选择哪种方法，安装完成后，你就可以在命令行中使用SWIG了。你可以通过输入 `swig -version` 来验证SWIG是否成功安装，并查看其版本信息。\n",
    "\n",
    "我建议第一种方法，如果大家对swig感兴趣，大家可以看看上面的官方网站；不过，大家装好了应该就可以用了；\n",
    "\n",
    "大家可以很好完成下面的安装了\n",
    "```\n",
    "pip install 'gymnasium[box2d]'\n",
    "```\n",
    "\n",
    "ps:如果大家是windows，我建议大家多看看官方文档，需要学会配置swig,不然装了好像也没有用；\n"
   ]
  },
  {
   "cell_type": "code",
   "execution_count": null,
   "metadata": {},
   "outputs": [],
   "source": []
  }
 ],
 "metadata": {
  "kernelspec": {
   "display_name": "test",
   "language": "python",
   "name": "python3"
  },
  "language_info": {
   "codemirror_mode": {
    "name": "ipython",
    "version": 3
   },
   "file_extension": ".py",
   "mimetype": "text/x-python",
   "name": "python",
   "nbconvert_exporter": "python",
   "pygments_lexer": "ipython3",
   "version": "3.8.19"
  }
 },
 "nbformat": 4,
 "nbformat_minor": 2
}
